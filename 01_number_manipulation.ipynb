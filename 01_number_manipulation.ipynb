{
 "cells": [
  {
   "cell_type": "markdown",
   "metadata": {
    "toc": true
   },
   "source": [
    "<h1>Table of Contents<span class=\"tocSkip\"></span></h1>\n",
    "<div class=\"toc\"><ul class=\"toc-item\"><li><span><a href=\"#Session-1:-Pickin'-On-Numbers\" data-toc-modified-id=\"Session-1:-Pickin'-On-Numbers-1\">Session 1: Pickin' On Numbers</a></span></li><li><span><a href=\"#Learning-Outcomes\" data-toc-modified-id=\"Learning-Outcomes-2\">Learning Outcomes</a></span></li><li><span><a href=\"#1)-Write-a-function-that-reverses-the-digits-in-an-integer.\" data-toc-modified-id=\"1)-Write-a-function-that-reverses-the-digits-in-an-integer.-3\">1) Write a function that reverses the digits in an integer.</a></span></li><li><span><a href=\"#Breakout\" data-toc-modified-id=\"Breakout-4\">Breakout</a></span></li><li><span><a href=\"#How-to-approach-code-based-problem-solving\" data-toc-modified-id=\"How-to-approach-code-based-problem-solving-5\">How to approach code-based problem solving</a></span><ul class=\"toc-item\"><li><span><a href=\"#AUPCTR\" data-toc-modified-id=\"AUPCTR-5.1\">AUPCTR</a></span></li><li><span><a href=\"#Start-with-base-case\" data-toc-modified-id=\"Start-with-base-case-5.2\">Start with base case</a></span></li></ul></li><li><span><a href=\"#2a)-Find-the-number-of-digits-without-convert-without-converting-the-type.\" data-toc-modified-id=\"2a)-Find-the-number-of-digits-without-convert-without-converting-the-type.-6\">2a) Find the number of digits without convert without converting the type.</a></span></li><li><span><a href=\"#2b)-Find-the-leading-(most-significant)-digit-without-converting-the-type.\" data-toc-modified-id=\"2b)-Find-the-leading-(most-significant)-digit-without-converting-the-type.-7\">2b) Find the leading (most significant) digit without converting the type.</a></span></li><li><span><a href=\"#Reflection:-What-are-the-pros-and-cons-of-procedural-vs-closed-form-solutions?\" data-toc-modified-id=\"Reflection:-What-are-the-pros-and-cons-of-procedural-vs-closed-form-solutions?-8\">Reflection: What are the pros and cons of procedural vs closed-form solutions?</a></span></li><li><span><a href=\"#3)-Find-the-digit-in-a-specific-place-without-converting-types\" data-toc-modified-id=\"3)-Find-the-digit-in-a-specific-place-without-converting-types-9\">3) Find the digit in a specific place without converting types</a></span></li><li><span><a href=\"#Reflection:-What-steps-did-you-take-to-solve-this?\" data-toc-modified-id=\"Reflection:-What-steps-did-you-take-to-solve-this?-10\">Reflection: What steps did you take to solve this?</a></span></li><li><span><a href=\"#4a)-Take-a-list-of-single-digits-and-return-the-concatenated-number.\" data-toc-modified-id=\"4a)-Take-a-list-of-single-digits-and-return-the-concatenated-number.-11\">4a) Take a list of single digits and return the concatenated number.</a></span></li><li><span><a href=\"#4b)-Convert-a-string-to-a-integer.\" data-toc-modified-id=\"4b)-Convert-a-string-to-a-integer.-12\">4b) Convert a string to a integer.</a></span></li><li><span><a href=\"#Reflection:-List-the-3-most-important-concepts-from-this-session\" data-toc-modified-id=\"Reflection:-List-the-3-most-important-concepts-from-this-session-13\">Reflection: List the 3 most important concepts from this session</a></span></li></ul></div>"
   ]
  },
  {
   "cell_type": "markdown",
   "metadata": {},
   "source": [
    "Session 1: Pickin' On Numbers\n",
    "-----"
   ]
  },
  {
   "cell_type": "markdown",
   "metadata": {},
   "source": [
    "<center><h2>Learning Outcomes</h2></center>\n",
    "\n",
    "__By the end of this session, you should be able to__:\n",
    "\n",
    "- Write Pythonic code to manipulate the symbolic representation of numbers.\n",
    "- Solve coding problems with a systematic method."
   ]
  },
  {
   "cell_type": "markdown",
   "metadata": {},
   "source": [
    "1) Write a function that reverses the digits in an integer.\n",
    "------\n",
    "\n",
    "Write 3 progressively more complex versions:\n",
    "\n",
    "1. Pythonically\n",
    "2. Without casting (aka, do not change type from int)\n",
    "3. Handle negative integers"
   ]
  },
  {
   "cell_type": "code",
   "execution_count": 31,
   "metadata": {},
   "outputs": [],
   "source": [
    " reset -fs"
   ]
  },
  {
   "cell_type": "code",
   "execution_count": 32,
   "metadata": {
    "code_folding": []
   },
   "outputs": [],
   "source": [
    "def reverse_integer(x: int) -> int:\n",
    "    \"Reverse the digits in an integer.\"\n",
    "    result = int(str(abs(x))[::-1])\n",
    "    return -result if x < 0 else result\n",
    "\n",
    "def reverse_integer(x: int) -> int:\n",
    "    \"Reverse the digits in an integer.\"\n",
    "    result, remaining = 0, abs(x)\n",
    "    while remaining:\n",
    "        result = (result * 10) + (remaining % 10)\n",
    "        remaining //= 10\n",
    "    return -result if x < 0 else result"
   ]
  },
  {
   "cell_type": "code",
   "execution_count": 33,
   "metadata": {},
   "outputs": [],
   "source": [
    "assert reverse_integer(123_456_789) == 987_654_321\n",
    "assert reverse_integer(reverse_integer(123_456_789)) == 123_456_789\n",
    "assert reverse_integer(-1234) == -4321"
   ]
  },
  {
   "cell_type": "markdown",
   "metadata": {},
   "source": [
    "Breakout\n",
    "------\n",
    "\n",
    "> \"The best coding solutions are simple and elegant.   \n",
    "> Writing those solutions is often complex and messy.\"\n",
    "\n",
    "__Take each others code and …__\n",
    "\n",
    "\n",
    "1. Make the most elegant Pythonic version.\n",
    "1. Make most elegant non-casting version.\n",
    "\n",
    "__Improve your code__:   \n",
    "\n",
    "1. Where is the re-implementation of built-in functions?\n",
    "1. Where is unnecessary complexity (e.g., extra variables, flags, imported numpy)?\n",
    "1. Where are had cryptic variable names?"
   ]
  },
  {
   "cell_type": "markdown",
   "metadata": {},
   "source": [
    "How to approach code-based problem solving\n",
    "-----\n",
    "\n",
    "What is a systematic way to approach problem solving?"
   ]
  },
  {
   "cell_type": "markdown",
   "metadata": {},
   "source": [
    "### AUPCTR\n",
    "   \n",
    "A-UPS-CI:\n",
    "\n",
    "1. Ask\n",
    "1. Understand\n",
    "1. Plan\n",
    "1. Code\n",
    "1. Test \n",
    "1. Refactor\n",
    "    \n",
    "For general problem solving, see notes from [Computational Bootcamp](https://github.com/brianspiering/computational_bootcamp/blob/master/02_bools_conditionals_looping_numpy/1_problem_solving.ipynb)."
   ]
  },
  {
   "cell_type": "markdown",
   "metadata": {},
   "source": [
    "### Start with base case\n",
    "\n",
    "What is the base case for reverse a digit?\n",
    "\n",
    "Single digit return itself\n",
    "\n",
    "What about two digits?\n",
    "\n"
   ]
  },
  {
   "cell_type": "markdown",
   "metadata": {},
   "source": [
    "2a) Find the number of digits without convert without converting the type.\n",
    "-----"
   ]
  },
  {
   "cell_type": "code",
   "execution_count": 44,
   "metadata": {},
   "outputs": [],
   "source": [
    "from math import ceil, log10\n",
    "\n",
    "def len_integer(x: int) -> int:\n",
    "    \"Find the number digits in an integer.\"\n",
    "    return ceil(log10(x))"
   ]
  },
  {
   "cell_type": "code",
   "execution_count": 45,
   "metadata": {},
   "outputs": [],
   "source": [
    "assert len_integer(9) == len(str(9)) == 1\n",
    "assert len_integer(42) == len(str(42)) == 2\n",
    "assert len_integer(1_234_567) == len(str(1_234_567)) == 7"
   ]
  },
  {
   "cell_type": "markdown",
   "metadata": {},
   "source": [
    "2b) Find the leading (most significant) digit without converting the type.\n",
    "-----"
   ]
  },
  {
   "cell_type": "code",
   "execution_count": 36,
   "metadata": {},
   "outputs": [],
   "source": [
    "from math import floor, log10\n",
    "\n",
    "def find_leading_digit(number: float) -> int:\n",
    "    \"Procedural\"\n",
    "    while number >= 10:\n",
    "        number //= 10\n",
    "    return number\n",
    "\n",
    "def find_leading_digit(number: float) -> int:\n",
    "    \"Closed form\"\n",
    "    return number // 10**floor(log10(number))"
   ]
  },
  {
   "cell_type": "code",
   "execution_count": 37,
   "metadata": {},
   "outputs": [],
   "source": [
    "assert find_leading_digit(1)           == 1\n",
    "assert find_leading_digit(42)          == 4\n",
    "assert find_leading_digit(42.42)       == 4\n",
    "assert find_leading_digit(1_234)       == 1\n",
    "assert find_leading_digit(98_7654_321) == 9"
   ]
  },
  {
   "cell_type": "markdown",
   "metadata": {},
   "source": [
    "Reflection: What are the pros and cons of procedural vs closed-form solutions?\n",
    "----\n",
    "\n",
    "\n",
    "Think, Pair, Share\n"
   ]
  },
  {
   "cell_type": "markdown",
   "metadata": {},
   "source": [
    "3) Find the digit in a specific place without converting types\n",
    "-----"
   ]
  },
  {
   "cell_type": "code",
   "execution_count": 38,
   "metadata": {},
   "outputs": [],
   "source": [
    "def find_digit_in_number(number: float, digit_place:int) -> int:\n",
    "    \"Find the specific digit\"\n",
    "    return (number // (10**digit_place)) % 10"
   ]
  },
  {
   "cell_type": "code",
   "execution_count": 39,
   "metadata": {},
   "outputs": [],
   "source": [
    "assert find_digit_in_number(987_654_321, 0)  == 1\n",
    "assert find_digit_in_number(987_654_321, 1)  == 2\n",
    "assert find_digit_in_number(987_654_321, 8)  == 9"
   ]
  },
  {
   "cell_type": "markdown",
   "metadata": {},
   "source": [
    "Reflection: What steps did you take to solve this?\n",
    "-----\n",
    "\n",
    "\n",
    "\n",
    "\n"
   ]
  },
  {
   "cell_type": "markdown",
   "metadata": {},
   "source": [
    "4a) Take a list of single digits and return the concatenated number.\n",
    "------"
   ]
  },
  {
   "cell_type": "code",
   "execution_count": 40,
   "metadata": {},
   "outputs": [],
   "source": [
    "from functools import reduce\n",
    "from typing import List\n",
    "\n",
    "def digits2int(digits: List[int]) -> int:\n",
    "    return reduce(lambda n, d: 10*n+d, digits)"
   ]
  },
  {
   "cell_type": "code",
   "execution_count": 41,
   "metadata": {},
   "outputs": [],
   "source": [
    "assert digits2int([9, 4, 1, 0, 5]) == 94105"
   ]
  },
  {
   "cell_type": "markdown",
   "metadata": {},
   "source": [
    "4b) Convert a string to a integer.\n",
    "-------\n"
   ]
  },
  {
   "cell_type": "code",
   "execution_count": 42,
   "metadata": {},
   "outputs": [],
   "source": [
    "# Create a mapping of digits\n",
    "nums = '0123456789'\n",
    "digits = range(10)\n",
    "str2digit = {n:d for (n, d) in zip(nums, digits)}\n",
    "\n",
    "def convert_to_int(s):\n",
    "    \"Convert a string to integer. Similar to int built-in function\"\n",
    "    n = 0\n",
    "    for i, c in enumerate(reversed(s)):\n",
    "        n += (10**i) * str2digit[c]\n",
    "    return n"
   ]
  },
  {
   "cell_type": "code",
   "execution_count": 43,
   "metadata": {},
   "outputs": [],
   "source": [
    "assert convert_to_int(\"94105\") == int(\"94105\") == 94105"
   ]
  },
  {
   "cell_type": "markdown",
   "metadata": {},
   "source": [
    "Reflection: List the 3 most important concepts from this session\n",
    "-----\n",
    "\n",
    "1. Think more!\n",
    "2. Start with the small test cases.\n",
    "3. Call functions instead for-loops."
   ]
  },
  {
   "cell_type": "markdown",
   "metadata": {},
   "source": [
    "<br>\n",
    "<br>\n",
    "<br>\n",
    "\n",
    "----"
   ]
  }
 ],
 "metadata": {
  "kernelspec": {
   "display_name": "Python 3",
   "language": "python",
   "name": "python3"
  },
  "language_info": {
   "codemirror_mode": {
    "name": "ipython",
    "version": 3
   },
   "file_extension": ".py",
   "mimetype": "text/x-python",
   "name": "python",
   "nbconvert_exporter": "python",
   "pygments_lexer": "ipython3",
   "version": "3.7.6"
  },
  "toc": {
   "base_numbering": 1,
   "nav_menu": {},
   "number_sections": false,
   "sideBar": false,
   "skip_h1_title": false,
   "title_cell": "Table of Contents",
   "title_sidebar": "Contents",
   "toc_cell": true,
   "toc_position": {},
   "toc_section_display": true,
   "toc_window_display": false
  }
 },
 "nbformat": 4,
 "nbformat_minor": 2
}
