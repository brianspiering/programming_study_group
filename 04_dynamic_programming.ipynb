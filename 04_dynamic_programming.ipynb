{
 "cells": [
  {
   "cell_type": "markdown",
   "metadata": {
    "toc": true
   },
   "source": [
    "<h1>Table of Contents<span class=\"tocSkip\"></span></h1>\n",
    "<div class=\"toc\"><ul class=\"toc-item\"><li><span><a href=\"#Session-4:-Dynamic-Programming\" data-toc-modified-id=\"Session-4:-Dynamic-Programming-1\">Session 4: Dynamic Programming</a></span></li><li><span><a href=\"#Learning-Outcomes\" data-toc-modified-id=\"Learning-Outcomes-2\">Learning Outcomes</a></span></li><li><span><a href=\"#What-is-dynamic-programming?\" data-toc-modified-id=\"What-is-dynamic-programming?-3\">What is dynamic programming?</a></span></li><li><span><a href=\"#Fibonacci-sequence-\" data-toc-modified-id=\"Fibonacci-sequence--4\">Fibonacci sequence </a></span></li><li><span><a href=\"#1)-Maximum-cumulative-sum-with-the-constraint-problem\" data-toc-modified-id=\"1)-Maximum-cumulative-sum-with-the-constraint-problem-5\">1) Maximum cumulative sum with the constraint problem</a></span></li><li><span><a href=\"#2)-Problem-31-from-Project-Euler-(aka-make-change)\" data-toc-modified-id=\"2)-Problem-31-from-Project-Euler-(aka-make-change)-6\">2) Problem 31 from Project Euler (aka make change)</a></span></li><li><span><a href=\"#Takeaways\" data-toc-modified-id=\"Takeaways-7\">Takeaways</a></span></li></ul></div>"
   ]
  },
  {
   "cell_type": "markdown",
   "metadata": {},
   "source": [
    "Session 4: Dynamic Programming\n",
    "-------\n",
    "<br>\n",
    "\n",
    "<center><img src=\"images/dynamic programming quote.png\" width=\"75%\"/></center>"
   ]
  },
  {
   "cell_type": "markdown",
   "metadata": {},
   "source": [
    "<center><h2>Learning Outcomes</h2></center>\n",
    "\n",
    "__By the end of this session, you should be able to__:\n",
    "\n",
    "- Write Python code to solve problems with dynamic programming.\n",
    "- Describe in your own words how dynamic programming works.\n",
    "- Explain the pros and cons of dynamic programming."
   ]
  },
  {
   "cell_type": "markdown",
   "metadata": {},
   "source": [
    "What is dynamic programming?\n",
    "------\n",
    "\n",
    "Dynamic programming is a way to effectively and efficiently solve problems.\n",
    "\n",
    "Dynamic programming finds the optimal solution by looking at all possible options once and then selecting the best solution. \n",
    "\n",
    "Dynamic programming is the best strategy when a problem has overlapping subproblems. It remembers previous solutions (via caching) and uses those previous solutions to reduce the number of calculations needed.\n",
    "\n",
    "Dynamic programming requires sequential problems.\n",
    "\n",
    "__How to solve problems with dynamic programming__:\n",
    "\n",
    "1. Recognize there is a sequence of steps with overlapping sub-problems (hardest step)\n",
    "1. Explicitly define how a single sub-problems is solved.\n",
    "1. Explicitly define how that sub-problem overlaps with next sub-problem.\n",
    "1. Pick data structure for cache.\n",
    "1. Walk through the problem. Storing results in the cache."
   ]
  },
  {
   "cell_type": "markdown",
   "metadata": {},
   "source": [
    "\n",
    "Fibonacci sequence \n",
    "------\n",
    "\n",
    "Fibonacci sequence is a cumulative sum of the last two values.\n",
    "\n",
    "A solution with dynamic programming can two variables as a cache since it does not need to store all of the history."
   ]
  },
  {
   "cell_type": "code",
   "execution_count": 11,
   "metadata": {},
   "outputs": [],
   "source": [
    "reset -fs"
   ]
  },
  {
   "cell_type": "code",
   "execution_count": 12,
   "metadata": {},
   "outputs": [
    {
     "name": "stdout",
     "output_type": "stream",
     "text": [
      "Item    Value\n",
      "1    ->    1\n",
      "2    ->    2\n",
      "3    ->    3\n",
      "4    ->    5\n",
      "5    ->    8\n",
      "6    ->   13\n",
      "7    ->   21\n",
      "8    ->   34\n",
      "9    ->   55\n",
      "10   ->   89\n"
     ]
    }
   ],
   "source": [
    "# Choose to use a function instead of + symbol\n",
    "from operator import add\n",
    "\n",
    "def fib(n):\n",
    "    two_back, one_back = 0, 1\n",
    "\n",
    "    for _ in range(n):\n",
    "        two_back, one_back = one_back, add(one_back, two_back) # New values are combinations of old values\n",
    "    return one_back\n",
    "        \n",
    "def print_fib_values(fib_func, fib_n=10):\n",
    "    print(f\"{'Item':<4}    {'Value':>4}\")\n",
    "    for fib_n in range(1, 11):\n",
    "        print(f\"{fib_n:<4} -> {fib_func(fib_n):>4}\")\n",
    "        \n",
    "print_fib_values(fib_func=fib)"
   ]
  },
  {
   "cell_type": "markdown",
   "metadata": {},
   "source": [
    "1) Maximum cumulative sum with the constraint problem\n",
    "-----\n",
    "\n",
    "The solution can use the same logic since it is a variation of cumulative sum."
   ]
  },
  {
   "cell_type": "code",
   "execution_count": 13,
   "metadata": {},
   "outputs": [],
   "source": [
    "from metakernel import register_ipython_magics\n",
    "register_ipython_magics()"
   ]
  },
  {
   "cell_type": "code",
   "execution_count": 14,
   "metadata": {},
   "outputs": [],
   "source": [
    "%%tutor\n",
    "\n",
    "# Let's take the same idea and extend it\n",
    "# Our new value is the max sum \n",
    "def max_constrained(nums):\n",
    "    \"Get maximum cumulative sum with the constraint of not taking two numbers in a row.\"\n",
    "    total_current, total_previous = 0, 0\n",
    "\n",
    "    for n in nums: \n",
    "        total_previous, total_current = total_current, max(total_previous + n, total_current)\n",
    "\n",
    "    return total_current\n",
    "\n",
    "assert max_constrained([1, 2, 3, 1])     ==  4\n",
    "assert max_constrained([2, 1, 1, 2])     ==  4\n",
    "assert max_constrained([2, 7, 9, 3, 1])  == 12"
   ]
  },
  {
   "cell_type": "markdown",
   "metadata": {},
   "source": [
    "The goal of Reinforcement Learning is to maximum the cumulative sum sum of rewards (e.g., points in a video game). Dynamic programming is one method to find the optimal policy to do reach that goal.\n",
    "\n",
    "The biggest difference between this problem and Reinforcement Learning is that Reinforcement Learning has a stochastic element(s):\n",
    "\n",
    "- Rewards are random.\n",
    "- States are random.\n",
    "- Ability to collect rewards are random."
   ]
  },
  {
   "cell_type": "markdown",
   "metadata": {},
   "source": [
    "2) Problem 31 from Project Euler (aka make change)\n",
    "-----\n",
    "\n",
    "In the United Kingdom the currency is made up of pound (£) and pence (p). There are eight coins in general circulation:\n",
    "1p, 2p, 5p, 10p, 20p, 50p, £1 (100p), and £2 (200p).\n",
    "\n",
    "It is possible to make £2 in the following way:\n",
    "1×£1 + 1×50p + 2×20p + 1×5p + 1×2p + 3×1p\n",
    "\n",
    "How many different ways can £2 be made using any number of coins?\n",
    "\n",
    "https://projecteuler.net/problem=31"
   ]
  },
  {
   "cell_type": "code",
   "execution_count": 17,
   "metadata": {},
   "outputs": [
    {
     "name": "stdout",
     "output_type": "stream",
     "text": [
      " Coin  Value  # of Ways\n",
      "  1      1      1   \n",
      "  1      2      1   \n",
      "  1      3      1   \n",
      "  1      4      1   \n",
      "  1      5      1   \n",
      "  1      6      1   \n",
      "  2      2      2   \n",
      "  2      3      2   \n",
      "  2      4      3   \n",
      "  2      5      3   \n",
      "  2      6      4   \n",
      "  5      5      4   \n",
      "  5      6      5   \n",
      "\n",
      "For the value of 6, there are 5 total ways to make change.\n"
     ]
    }
   ],
   "source": [
    "%%tutor\n",
    "\n",
    "# Assign variables\n",
    "target = 2 # 1, 2, 3, 4, 5, 6, 7, … 200\n",
    "coins = [1, 2, 5, 10, 20, 50, 100, 200]\n",
    "\n",
    "print(f\"{'Coin':^6} {'Value':^6} {'# of Ways':^6}\")\n",
    "\n",
    "# Use dynamic programming to build up the solution\n",
    "ways = [1] + [0]*target              # Total number number of ways to make change for given number of coins (index)\n",
    "for coin in coins:                   # Find ways to make change for each coin individually\n",
    "    for i in range(coin, target+1):  # Keep adding ways to make change, progressively for each coin value\n",
    "        ways[i] += ways[i-coin]      # Current number of ways builds on the previous number of ways\n",
    "        print(f\"{coin:^6} {i:^6} {ways[i]:^6}\")\n",
    "#     print(\"#\"*20)\n",
    "\n",
    "print()\n",
    "print(f\"For the value of {target}, there are {ways[-1]:,} total ways to make change.\")"
   ]
  },
  {
   "cell_type": "markdown",
   "metadata": {},
   "source": [
    "<center><h2>Takeaways</h2></center>\n",
    "\n",
    "- Dynamic Programming Pros\n",
    "    - Easy to ask and proves you can code!\n",
    "    - If it can be applied, it is guaranteed to find optimal solution.\n",
    "    - Spends up the solving of certain classes of problems.\n",
    "- Dynamic Programming Cons:\n",
    "    - You have to have experience with solving problems in that style.\n",
    "    - Requires memory for the cache. Your computer might not have a big enough, fast enough cache.\n",
    "    - Requires visiting every state in a sequences. \n",
    "        - Sometimes there are too many states.\n",
    "        - It is not easily parallelizable."
   ]
  },
  {
   "cell_type": "markdown",
   "metadata": {},
   "source": [
    "<br>\n",
    "<br> \n",
    "<br>\n",
    "\n",
    "----"
   ]
  }
 ],
 "metadata": {
  "kernelspec": {
   "display_name": "Python 3",
   "language": "python",
   "name": "python3"
  },
  "language_info": {
   "codemirror_mode": {
    "name": "ipython",
    "version": 3
   },
   "file_extension": ".py",
   "mimetype": "text/x-python",
   "name": "python",
   "nbconvert_exporter": "python",
   "pygments_lexer": "ipython3",
   "version": "3.7.6"
  },
  "toc": {
   "base_numbering": 1,
   "nav_menu": {},
   "number_sections": false,
   "sideBar": false,
   "skip_h1_title": false,
   "title_cell": "Table of Contents",
   "title_sidebar": "Contents",
   "toc_cell": true,
   "toc_position": {},
   "toc_section_display": true,
   "toc_window_display": false
  }
 },
 "nbformat": 4,
 "nbformat_minor": 2
}
