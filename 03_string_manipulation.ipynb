{
 "cells": [
  {
   "cell_type": "markdown",
   "metadata": {
    "toc": true
   },
   "source": [
    "<h1>Table of Contents<span class=\"tocSkip\"></span></h1>\n",
    "<div class=\"toc\"><ul class=\"toc-item\"><li><span><a href=\"#Session-3:-String-Manipulation\" data-toc-modified-id=\"Session-3:-String-Manipulation-1\">Session 3: String Manipulation</a></span></li><li><span><a href=\"#Learning-Outcomes\" data-toc-modified-id=\"Learning-Outcomes-2\">Learning Outcomes</a></span></li><li><span><a href=\"#1)-Find-all-the-items-in-candidates-that-are-permutations-of-the-target.\" data-toc-modified-id=\"1)-Find-all-the-items-in-candidates-that-are-permutations-of-the-target.-3\">1) Find all the items in candidates that are permutations of the target.</a></span></li><li><span><a href=\"#Code-Review-Steps\" data-toc-modified-id=\"Code-Review-Steps-4\">Code Review Steps</a></span></li><li><span><a href=\"#Benchmarking-Code\" data-toc-modified-id=\"Benchmarking-Code-5\">Benchmarking Code</a></span></li><li><span><a href=\"#Student-Discussion\" data-toc-modified-id=\"Student-Discussion-6\">Student Discussion</a></span></li><li><span><a href=\"#2)-One-edit-only\" data-toc-modified-id=\"2)-One-edit-only-7\">2) One edit only</a></span></li><li><span><a href=\"#3)-Increment-\" data-toc-modified-id=\"3)-Increment--8\">3) Increment </a></span></li><li><span><a href=\"#Takeaways\" data-toc-modified-id=\"Takeaways-9\">Takeaways</a></span></li></ul></div>"
   ]
  },
  {
   "cell_type": "markdown",
   "metadata": {},
   "source": [
    "Session 3: String Manipulation\n",
    "----\n",
    "\n",
    "In general, strings are ordered sequences of symbols. \n",
    "\n",
    "In Python, `str` types are immutable ordered sequences of Unicode characters."
   ]
  },
  {
   "cell_type": "markdown",
   "metadata": {},
   "source": [
    "<center><h2>Learning Outcomes</h2></center>\n",
    "\n",
    "__By the end of this session, you should be able to__:\n",
    "\n",
    "- Write readable and performant Python to manipulate strings.\n",
    "- Use common Python idioms for string manipulation.\n",
    "- Compare different implementations to solve the same problem."
   ]
  },
  {
   "cell_type": "markdown",
   "metadata": {},
   "source": [
    "1) Find all the items in candidates that are permutations of the target.\n",
    "-------\n",
    "\n",
    "Efficiency and readability counts!"
   ]
  },
  {
   "cell_type": "markdown",
   "metadata": {},
   "source": [
    "Code Review Steps\n",
    "-----\n",
    "\n",
    "1. Correctness - Does the code do its job?\n",
    "2. Performance - Is the code fast enough? Are there simple changes that would speed up the code?\n",
    "3. Readability - Are variables named in a [Teutonic-style](https://a-nickels-worth.blogspot.com/2016/04/a-guide-to-naming-variables.html) (straightforward to understand with minimal prior knowledge)? Is the logic flow easy to follow?"
   ]
  },
  {
   "cell_type": "code",
   "execution_count": 43,
   "metadata": {},
   "outputs": [],
   "source": [
    "reset -fs"
   ]
  },
  {
   "cell_type": "code",
   "execution_count": 44,
   "metadata": {
    "code_folding": [
     3
    ]
   },
   "outputs": [],
   "source": [
    "# Sorting approach\n",
    "from typing import Set\n",
    "\n",
    "def find_permutations_sorted(target: str, candidates: Set[str]) -> Set[str]:\n",
    "    \"Find all the items in candidates that are permutations of the target.\"\n",
    "    target = sorted(target)\n",
    "    return {word for word in candidates if sorted(word) == target}\n",
    "\n",
    "assert find_permutations_sorted(target='act',  candidates={'cat', 'rat', 'dog', 'act'}) == {'act', 'cat'}\n",
    "assert find_permutations_sorted(target='abba', candidates={'aabb', 'ab'})               == {'aabb'}"
   ]
  },
  {
   "cell_type": "code",
   "execution_count": 45,
   "metadata": {},
   "outputs": [],
   "source": [
    "# Hashmap approach\n",
    "\n",
    "from collections import Counter # Counter is Python's implementation of a bag - a set that allows repeated items\n",
    "\n",
    "def find_permutations_bag(target: str, candidates: Set[str]) -> Set[str]:\n",
    "    \"Find all the items in candidates that are permutations of the target.\"\n",
    "    target_count = Counter(target)\n",
    "    return {word for word in candidates if Counter(word) == target_count}\n",
    "\n",
    "assert find_permutations_bag(target='act',  candidates={'cat', 'rat', 'dog', 'act'}) == {'act', 'cat'}\n",
    "assert find_permutations_bag(target='abba', candidates={'aabb', 'ab'})               == {'aabb'}"
   ]
  },
  {
   "cell_type": "code",
   "execution_count": 46,
   "metadata": {
    "code_folding": []
   },
   "outputs": [],
   "source": [
    "# If you don't get to import Counter, roll your own (RYO)\n",
    "from typing import Sequence\n",
    "\n",
    "def Counter(sequence: Sequence) -> dict:\n",
    "    \"Return the unique items with respective counts.\"\n",
    "    counts = {}\n",
    "    for item in sequence:\n",
    "        counts[item] = counts.get(item, 0) + 1\n",
    "    return counts\n",
    "\n",
    "from collections import Counter # Counter is Python's implementation of a bag - a set that allows repeated items\n",
    "\n",
    "def find_permutations_bag(target: str, candidates: Set[str]) -> Set[str]:\n",
    "    \"Find all the items in candidates that are permutations of the target.\"\n",
    "    target_count = Counter(target)\n",
    "    return {word for word in candidates if Counter(word) == target_count}\n",
    "\n",
    "assert find_permutations_bag(target='act',  candidates={'cat', 'rat', 'dog', 'act'}) == {'act', 'cat'}\n",
    "assert find_permutations_bag(target='abba', candidates={'aabb', 'ab'})               == {'aabb'}"
   ]
  },
  {
   "cell_type": "markdown",
   "metadata": {},
   "source": [
    "-----"
   ]
  },
  {
   "cell_type": "markdown",
   "metadata": {},
   "source": [
    "Benchmarking Code\n",
    "------"
   ]
  },
  {
   "cell_type": "code",
   "execution_count": 47,
   "metadata": {},
   "outputs": [],
   "source": [
    "from random import choice\n",
    "from string import ascii_letters as letters"
   ]
  },
  {
   "cell_type": "code",
   "execution_count": 48,
   "metadata": {},
   "outputs": [],
   "source": [
    "fake_word_1 = \"\".join(choice(letters) for _ in range(10_000))\n",
    "fake_word_2 = \"\".join(choice(letters) for _ in range(10_000))\n",
    "fake_word_3 = \"\".join(choice(letters) for _ in range(10_000))"
   ]
  },
  {
   "cell_type": "code",
   "execution_count": 49,
   "metadata": {},
   "outputs": [
    {
     "name": "stdout",
     "output_type": "stream",
     "text": [
      "3.16 ms ± 1.08 ms per loop (mean ± std. dev. of 7 runs, 10 loops each)\n"
     ]
    }
   ],
   "source": [
    "%timeit -n 10 find_permutations_sorted(target='fake_word_1', candidates={fake_word_2, fake_word_3})"
   ]
  },
  {
   "cell_type": "code",
   "execution_count": 50,
   "metadata": {},
   "outputs": [
    {
     "name": "stdout",
     "output_type": "stream",
     "text": [
      "1.03 ms ± 207 µs per loop (mean ± std. dev. of 7 runs, 10 loops each)\n"
     ]
    }
   ],
   "source": [
    "%timeit -n 10 find_permutations_bag(target='fake_word_1', candidates={fake_word_2, fake_word_3})"
   ]
  },
  {
   "cell_type": "markdown",
   "metadata": {},
   "source": [
    "Student Discussion\n",
    "-------\n",
    "\n",
    "Why is the hashmap solution so much faster than the sorting solution?\n",
    "\n",
    "<br>\n",
    "<details><summary>\n",
    "Click here for a solution…\n",
    "</summary>\n",
    "Sorting requires multiple passes over the data to make sure each item is ordered. Then for comparison, each element for the entire sequence has to be compared.<br><br>\n",
    "\n",
    "Hashmaps only need a single pass through the data to create the representation. Then compressed representations (i.e., character counts) are compared.\n",
    "</details>"
   ]
  },
  {
   "cell_type": "markdown",
   "metadata": {},
   "source": [
    "2) One edit only\n",
    "-------"
   ]
  },
  {
   "cell_type": "code",
   "execution_count": 51,
   "metadata": {
    "code_folding": []
   },
   "outputs": [],
   "source": [
    "\"\"\"\n",
    "Given two strings, check if they are one edit away. An edit can be any one of the following.\n",
    "   1) Inserting a single character\n",
    "   2) Removing a single character\n",
    "   3) Replacing a single character\n",
    "\"\"\"\n",
    "\n",
    "def is_one_away(string_1: str, string_2: str) -> bool:\n",
    "    \n",
    "    # If identical then not one away.\n",
    "    if string_1 == string_2:\n",
    "        return False\n",
    "    \n",
    "    # If difference between lengths is more than 1, then strings have to differ in more than one spot.\n",
    "    if abs(len(string_1) - len(string_2)) > 1: \n",
    "        return False \n",
    "   \n",
    "    # Check they differ in more than one character.\n",
    "    if len(string_1) == len(string_2):\n",
    "        count_diffs = 0\n",
    "        for a, b in zip(string_1, string_2):\n",
    "            if a != b:\n",
    "                if count_diffs: return False\n",
    "                count_diffs += 1\n",
    "        return True\n",
    "   \n",
    "    # Check if the longer string can be made into the shorter one by dropping exactly one character.\n",
    "    \n",
    "    # Make string_1 the longest.\n",
    "    if len(string_1) < len(string_2):\n",
    "        string_1, string_2 = string_2, string_1\n",
    "\n",
    "    # Iterate through the string independently.\n",
    "    it1, it2 = iter(string_1), iter(string_2)\n",
    "    c1, c2 = next(it1, None), next(it2, None)\n",
    "    count_diffs = 0\n",
    "    while True:\n",
    "        if c1 != c2:\n",
    "            if count_diffs: return False\n",
    "            count_diffs = 1\n",
    "            c1 = next(it1) # Advance just on string_1\n",
    "        else:\n",
    "            try:\n",
    "                c1 = next(it1)\n",
    "                c2 = next(it2)\n",
    "            except StopIteration: return True\n",
    "        \n",
    "assert is_one_away('aale',  'ale')  # Inserting a character\n",
    "assert is_one_away('pales', 'pale') # Inserting a character\n",
    "assert is_one_away('aaa',   'aaaa') # Inserting a character\n",
    "assert is_one_away('pale',  'ale')  # Removing a character\n",
    "assert is_one_away('ale',   'pale') # Removing a character\n",
    "assert is_one_away('pale',  'bale') # Replacing a character\n",
    "assert is_one_away('pale',  'pall') # Replacing a character\n",
    "\n",
    "assert not is_one_away('black', 'black')     # Both strings are the same\n",
    "assert not is_one_away('aaa', 'aaaaa')       # Inserting more than one character\n",
    "assert not is_one_away('aaa', 'aaaaa')       # Inserting more than one character\n",
    "assert not is_one_away('pale', 'a')          # Removing more than one character\n",
    "assert not is_one_away('pale', 'bake')       # Replacing more than one character\n",
    "assert not is_one_away('inlaw', 'outlaw')    # Replacing more than one character\n",
    "assert not is_one_away('aael', 'ale')        # Two changes: 1) insert character 2) swap character"
   ]
  },
  {
   "cell_type": "markdown",
   "metadata": {},
   "source": [
    "[Inspired by this StackOverflow answer](https://stackoverflow.com/questions/28665292/returns-true-if-the-two-strings-only-differ-by-one-character)"
   ]
  },
  {
   "cell_type": "markdown",
   "metadata": {},
   "source": [
    "A generalized solution to edit distance problems requires dynamic programming. Dynamic programming is the most useful algorithm for coding interviews."
   ]
  },
  {
   "cell_type": "markdown",
   "metadata": {},
   "source": [
    "----"
   ]
  },
  {
   "cell_type": "markdown",
   "metadata": {},
   "source": [
    "3) Increment \n",
    "-----"
   ]
  },
  {
   "cell_type": "code",
   "execution_count": 52,
   "metadata": {
    "code_folding": [
     6
    ]
   },
   "outputs": [],
   "source": [
    "\"\"\"\"\n",
    "Write a function which increments a string, to create a new string. \n",
    "If the string already ends with a number, the number should be incremented by 1. \n",
    "If the string does not end with a number, the number 1 should be appended to the new string.\n",
    "\"\"\"\n",
    "\n",
    "def increment_string(string:str) -> str:\n",
    "    head = string.rstrip('0123456789')\n",
    "    tail = string[len(head):]\n",
    "    if tail == \"\": \n",
    "        return string+\"1\"\n",
    "    return head + str(int(tail) + 1).zfill(len(tail))\n",
    "\n",
    "assert increment_string(\"\") == '1'\n",
    "assert increment_string(\"gemini\")    == 'gemini1'\n",
    "assert increment_string(\"gemini1\")   == 'gemini2'\n",
    "assert increment_string(\"gemini2\")   == 'gemini3'\n",
    "assert increment_string(\"gemini9\")   == 'gemini10'\n",
    "assert increment_string(\"gemini00\")  == 'gemini01'\n",
    "assert increment_string(\"gemini01\")  == 'gemini02'\n",
    "assert increment_string(\"gemini009\") == 'gemini010'\n",
    "assert increment_string(\"gemini999\") == 'gemini1000'"
   ]
  },
  {
   "cell_type": "markdown",
   "metadata": {},
   "source": [
    "<center><h2>Takeaways</h2></center>\n",
    "\n",
    "1. Hashmaps should be your goto data structure.\n",
    "1. Let Python do the work for you (use sort, sets, string formating)."
   ]
  },
  {
   "cell_type": "markdown",
   "metadata": {},
   "source": [
    "<br>\n",
    "<br> \n",
    "<br>\n",
    "\n",
    "----"
   ]
  }
 ],
 "metadata": {
  "kernelspec": {
   "display_name": "Python 3",
   "language": "python",
   "name": "python3"
  },
  "language_info": {
   "codemirror_mode": {
    "name": "ipython",
    "version": 3
   },
   "file_extension": ".py",
   "mimetype": "text/x-python",
   "name": "python",
   "nbconvert_exporter": "python",
   "pygments_lexer": "ipython3",
   "version": "3.7.6"
  },
  "toc": {
   "base_numbering": 1,
   "nav_menu": {},
   "number_sections": false,
   "sideBar": false,
   "skip_h1_title": false,
   "title_cell": "Table of Contents",
   "title_sidebar": "Contents",
   "toc_cell": true,
   "toc_position": {},
   "toc_section_display": true,
   "toc_window_display": false
  }
 },
 "nbformat": 4,
 "nbformat_minor": 2
}
