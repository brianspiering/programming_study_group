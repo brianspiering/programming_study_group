{
 "cells": [
  {
   "cell_type": "markdown",
   "metadata": {
    "toc": true
   },
   "source": [
    "<h1>Table of Contents<span class=\"tocSkip\"></span></h1>\n",
    "<div class=\"toc\"><ul class=\"toc-item\"><li><span><a href=\"#Session-2:-Object-oriented-programming-(OOP)\" data-toc-modified-id=\"Session-2:-Object-oriented-programming-(OOP)-1\">Session 2: Object-oriented programming (OOP)</a></span></li><li><span><a href=\"#Prework\" data-toc-modified-id=\"Prework-2\">Prework</a></span></li><li><span><a href=\"#Learning-Outcomes\" data-toc-modified-id=\"Learning-Outcomes-3\">Learning Outcomes</a></span></li><li><span><a href=\"#1)-Implement-a-2D-Vector-class-with-addition\" data-toc-modified-id=\"1)-Implement-a-2D-Vector-class-with-addition-4\">1) Implement a 2D Vector class with addition</a></span></li><li><span><a href=\"#Check-for-understanding\" data-toc-modified-id=\"Check-for-understanding-5\">Check for understanding</a></span></li><li><span><a href=\"#2)-Write-a-GroupBy-class\" data-toc-modified-id=\"2)-Write-a-GroupBy-class-6\">2) Write a GroupBy class</a></span></li><li><span><a href=\"#Student-Breakout\" data-toc-modified-id=\"Student-Breakout-7\">Student Breakout</a></span></li><li><span><a href=\"#3)-Parking-Lot\" data-toc-modified-id=\"3)-Parking-Lot-8\">3) Parking Lot</a></span></li><li><span><a href=\"#4)-Implement-the-Bunch-design-pattern-\" data-toc-modified-id=\"4)-Implement-the-Bunch-design-pattern--9\">4) Implement the Bunch design pattern </a></span></li><li><span><a href=\"#5)-Create-an-immutable-attribute-of-a-class\" data-toc-modified-id=\"5)-Create-an-immutable-attribute-of-a-class-10\">5) Create an immutable attribute of a class</a></span></li><li><span><a href=\"#Takeaways\" data-toc-modified-id=\"Takeaways-11\">Takeaways</a></span></li><li><span><a href=\"#Reflection:-List-the-3-most-important-concepts-from-this-session\" data-toc-modified-id=\"Reflection:-List-the-3-most-important-concepts-from-this-session-12\">Reflection: List the 3 most important concepts from this session</a></span></li></ul></div>"
   ]
  },
  {
   "cell_type": "markdown",
   "metadata": {},
   "source": [
    "Session 2: Object-oriented programming (OOP)\n",
    "------"
   ]
  },
  {
   "cell_type": "markdown",
   "metadata": {},
   "source": [
    "<center><h2>Prework</h2></center>\n",
    "\n",
    "If you have less experience, check out these\n",
    "\n",
    "- https://realpython.com/python3-object-oriented-programming/\n",
    "- https://realpython.com/learning-paths/object-oriented-programming-oop-python/\n",
    "\n",
    "This material is a little old but covers the fundamentals in an entertaining way:\n",
    "\n",
    "Raymond Hettinger - Python’s Class Development Toolkit\n",
    "\n",
    "- https://www.youtube.com/watch?v=HTLu2DFOdTg\n",
    "- https://speakerdeck.com/pyconslides/pythons-class-development-toolkit-by-raymond-hettinger\n",
    "- https://jathanism-event-notes.readthedocs.io/en/latest/pycon_2013/talks/pythons_class_development_toolkit.html"
   ]
  },
  {
   "cell_type": "markdown",
   "metadata": {},
   "source": [
    "<center><h2>Learning Outcomes</h2></center>\n",
    "\n",
    "__By the end of this session, you should be able to__:\n",
    "\n",
    "- Define and apply common Object-oriented programming (OOP) techniques.\n",
    "- Create custom classes in Python."
   ]
  },
  {
   "cell_type": "markdown",
   "metadata": {},
   "source": [
    "Live Coding - \n",
    "https://repl.it/@brianspiering/session2objectorientedprogramming"
   ]
  },
  {
   "cell_type": "markdown",
   "metadata": {},
   "source": [
    "1) Implement a 2D Vector class with addition\n",
    "------"
   ]
  },
  {
   "cell_type": "code",
   "execution_count": 56,
   "metadata": {},
   "outputs": [],
   "source": [
    "reset -fs"
   ]
  },
  {
   "cell_type": "code",
   "execution_count": 57,
   "metadata": {},
   "outputs": [],
   "source": [
    "class Vector:\n",
    "\n",
    "    def __init__(self, x=0, y=0): \n",
    "        self.x = x\n",
    "        self.y = y"
   ]
  },
  {
   "cell_type": "code",
   "execution_count": 58,
   "metadata": {},
   "outputs": [
    {
     "data": {
      "text/plain": [
       "<__main__.Vector at 0x107c32210>"
      ]
     },
     "execution_count": 58,
     "metadata": {},
     "output_type": "execute_result"
    }
   ],
   "source": [
    "v1 = Vector(1, 2)\n",
    "v1"
   ]
  },
  {
   "cell_type": "code",
   "execution_count": 59,
   "metadata": {},
   "outputs": [],
   "source": [
    "class Vector:\n",
    "\n",
    "    def __init__(self, x=0, y=0): \n",
    "        self.x = x\n",
    "        self.y = y\n",
    "\n",
    "    def __repr__(self):\n",
    "        class_name = self.__class__.__name__\n",
    "        return f\"{class_name}({self.x}, {self.y})\""
   ]
  },
  {
   "cell_type": "code",
   "execution_count": 60,
   "metadata": {},
   "outputs": [
    {
     "data": {
      "text/plain": [
       "Vector(1, 2)"
      ]
     },
     "execution_count": 60,
     "metadata": {},
     "output_type": "execute_result"
    }
   ],
   "source": [
    "v1 = Vector(1, 2)\n",
    "v1"
   ]
  },
  {
   "cell_type": "code",
   "execution_count": 61,
   "metadata": {},
   "outputs": [
    {
     "ename": "TypeError",
     "evalue": "unsupported operand type(s) for +: 'Vector' and 'Vector'",
     "output_type": "error",
     "traceback": [
      "\u001b[0;31m---------------------------------------------------------------------------\u001b[0m",
      "\u001b[0;31mTypeError\u001b[0m                                 Traceback (most recent call last)",
      "\u001b[0;32m<ipython-input-61-2a86132f6940>\u001b[0m in \u001b[0;36m<module>\u001b[0;34m\u001b[0m\n\u001b[1;32m      1\u001b[0m \u001b[0mv1\u001b[0m \u001b[0;34m=\u001b[0m \u001b[0mVector\u001b[0m\u001b[0;34m(\u001b[0m\u001b[0;36m1\u001b[0m\u001b[0;34m,\u001b[0m \u001b[0;36m2\u001b[0m\u001b[0;34m)\u001b[0m\u001b[0;34m\u001b[0m\u001b[0;34m\u001b[0m\u001b[0m\n\u001b[1;32m      2\u001b[0m \u001b[0mv2\u001b[0m \u001b[0;34m=\u001b[0m \u001b[0mVector\u001b[0m\u001b[0;34m(\u001b[0m\u001b[0;36m3\u001b[0m\u001b[0;34m,\u001b[0m \u001b[0;36m4\u001b[0m\u001b[0;34m)\u001b[0m\u001b[0;34m\u001b[0m\u001b[0;34m\u001b[0m\u001b[0m\n\u001b[0;32m----> 3\u001b[0;31m \u001b[0mv3\u001b[0m \u001b[0;34m=\u001b[0m \u001b[0mv1\u001b[0m \u001b[0;34m+\u001b[0m \u001b[0mv2\u001b[0m\u001b[0;34m\u001b[0m\u001b[0;34m\u001b[0m\u001b[0m\n\u001b[0m\u001b[1;32m      4\u001b[0m \u001b[0mv3\u001b[0m\u001b[0;34m\u001b[0m\u001b[0;34m\u001b[0m\u001b[0m\n",
      "\u001b[0;31mTypeError\u001b[0m: unsupported operand type(s) for +: 'Vector' and 'Vector'"
     ]
    }
   ],
   "source": [
    "v1 = Vector(1, 2)\n",
    "v2 = Vector(3, 4)\n",
    "v3 = v1 + v2\n",
    "v3"
   ]
  },
  {
   "cell_type": "code",
   "execution_count": 62,
   "metadata": {},
   "outputs": [],
   "source": [
    "class Vector:\n",
    "\n",
    "    def __init__(self, x=0, y=0): \n",
    "        self.x = x\n",
    "        self.y = y\n",
    "        \n",
    "    def __add__(self, other): \n",
    "        return Vector(self.x+other.x, self.y+other.y)\n",
    "\n",
    "    def __repr__(self):\n",
    "        class_name = self.__class__.__name__\n",
    "        return f\"{class_name}({self.x}, {self.y})\""
   ]
  },
  {
   "cell_type": "code",
   "execution_count": 63,
   "metadata": {},
   "outputs": [
    {
     "data": {
      "text/plain": [
       "Vector(4, 6)"
      ]
     },
     "execution_count": 63,
     "metadata": {},
     "output_type": "execute_result"
    }
   ],
   "source": [
    "v1 = Vector(1, 2)\n",
    "v2 = Vector(3, 4)\n",
    "v3 = v1 + v2\n",
    "v3"
   ]
  },
  {
   "cell_type": "markdown",
   "metadata": {},
   "source": [
    "Source: __[Fluent Python](https://www.amazon.com/Fluent-Python-Concise-Effective-Programming/dp/1491946008)__ by Luciano Ramalho"
   ]
  },
  {
   "cell_type": "markdown",
   "metadata": {},
   "source": [
    "<center><h2>Check for understanding</h2></center>\n",
    "\n",
    "What OOP concept is `v3 = v1 + v2` an example of?\n",
    "\n",
    "<br>\n",
    "<details><summary>\n",
    "Click here for the solution …\n",
    "</summary>\n",
    "Polymorphism<br><br>\n",
    "    \n",
    "Defining an type specific action for a symbol.\n",
    "</details>"
   ]
  },
  {
   "cell_type": "markdown",
   "metadata": {},
   "source": [
    "2) Write a GroupBy class\n",
    "-----\n",
    "\n",
    " Something like [Panda's grouby concept](https://pandas.pydata.org/pandas-docs/stable/user_guide/groupby.html)"
   ]
  },
  {
   "cell_type": "code",
   "execution_count": 75,
   "metadata": {},
   "outputs": [],
   "source": [
    "reset -fs"
   ]
  },
  {
   "cell_type": "code",
   "execution_count": 83,
   "metadata": {},
   "outputs": [],
   "source": [
    "# More verbose            \n",
    "class GroupBy(dict):\n",
    "    \n",
    "    def __init__(self, seq):\n",
    "        for value in seq:\n",
    "            new = self.setdefault(value, [])\n",
    "            new.append(value)\n",
    "            self.new = new\n",
    "\n",
    "# # Less verbose\n",
    "# class GroupBy(dict):\n",
    "    \n",
    "#     def __init__(self, seq):\n",
    "#         for value in seq:\n",
    "#             self.setdefault(value, []).append(value)\n"
   ]
  },
  {
   "cell_type": "code",
   "execution_count": 84,
   "metadata": {},
   "outputs": [],
   "source": [
    "assert GroupBy('abracadabra') == {'a': ['a', 'a', 'a', 'a', 'a'],\n",
    "                                 'b': ['b', 'b'],\n",
    "                                 'r': ['r', 'r'],\n",
    "                                 'c': ['c'],\n",
    "                                 'd': ['d']}"
   ]
  },
  {
   "cell_type": "code",
   "execution_count": 85,
   "metadata": {},
   "outputs": [],
   "source": [
    "dict.setdefault?"
   ]
  },
  {
   "cell_type": "markdown",
   "metadata": {},
   "source": [
    "`collections.defaultdict` is useful for settings defaults before filling the dict\n",
    "\n",
    "`dict.setdefault` is useful for setting defaults while or after filling the dict.\n",
    "\n",
    "[Source](https://stackoverflow.com/questions/3483520/use-cases-for-the-setdefault-dict-method)"
   ]
  },
  {
   "cell_type": "code",
   "execution_count": 74,
   "metadata": {},
   "outputs": [
    {
     "data": {
      "text/plain": [
       "dict_keys(['a', 'b', 'r', 'c', 'd'])"
      ]
     },
     "execution_count": 74,
     "metadata": {},
     "output_type": "execute_result"
    }
   ],
   "source": [
    "gb = GroupBy('abracadabra')\n",
    "gb.keys()"
   ]
  },
  {
   "cell_type": "markdown",
   "metadata": {},
   "source": [
    "Student Breakout\n",
    "------\n",
    "\n",
    "Create a single repl.it workspace for the group.\n",
    "\n",
    "Work together to create to create the best solutions for prompt #1 and #2.\n",
    "\n",
    "__Improve your code__: \n",
    "\n",
    "1. For Vector code, how can you display the object in a way that makes sense to people?\n",
    "1. For the GroupBy code, is there a way to use inheritance? (Brian says, \"Let Python do the work for you.\")"
   ]
  },
  {
   "cell_type": "markdown",
   "metadata": {},
   "source": [
    "3) Parking Lot\n",
    "------\n",
    "\n",
    "Design a parking lot system for 5th & Mission in San Francisco. We plan to launch then disrupt parking lots across the world!\n",
    "\n",
    "What are the entities involved with a parking lot? For each entity, what are the attributes (nouns)? What do they do (verb)?\n",
    "\n",
    "Start by implementing the system for a single type of spot. For example, handicapped.\n",
    "\n",
    "User story: As a user, I would like to tell the Parking Lot system that I want a handicapped spot. The Parking Lot system give me a unique spot id and make sure no one else can get that same spot.\n",
    "\n",
    "[Source](https://www.educative.io/courses/grokking-the-object-oriented-design-interview/gxM3gRxmr8Z)"
   ]
  },
  {
   "cell_type": "markdown",
   "metadata": {},
   "source": [
    "1. Individually\n",
    "    - Spend 5 minutes thinking and designing.\n",
    "    - Spend 15 minutes coding.\n",
    "    \n",
    "1. After 15 minutes (or so), we'll form small groups\n",
    "\n",
    "    - Take your best ideas and put into one class.\n",
    "    \n",
    "-----\n",
    "\n",
    "Questions for the small groups:\n",
    "\n",
    "- What are the best data structures to use?\n",
    "- How are exceptions handled?\n",
    "- What is the interface (porcelain) vs implementation (plumbing)?\n",
    "\n",
    "-------\n",
    "\n",
    "Entire Group Reflection: Was the design or implement more difficult?\n",
    "\n",
    "-----"
   ]
  },
  {
   "cell_type": "code",
   "execution_count": 95,
   "metadata": {},
   "outputs": [],
   "source": [
    "reset -fs"
   ]
  },
  {
   "cell_type": "code",
   "execution_count": 124,
   "metadata": {},
   "outputs": [],
   "source": [
    "class ParkingLot:\n",
    "\n",
    "    def __init__(self, board_id):\n",
    "        self.board_id = board_id\n",
    "        self.spot_types = {\"handicapped\"}\n",
    "        self.handicapped_free_spots = {934, 342, 345, 435} # Spot ids\n",
    "        # TODO: Implement other types later\n",
    "\n",
    "    def find_open_spot(self, spot_type):\n",
    "        message = \"\"\n",
    "        if (spot_type == \"handicapped\") and (len(self.handicapped_free_spots) > 0):\n",
    "            spot_id = self.handicapped_free_spots.pop()\n",
    "            message += f\"Park in handicapped spot: {spot_id}\"\n",
    "        else:\n",
    "            message += \"Handicapped is full\"\n",
    "        message += \"\\n\"\n",
    "        print(message)"
   ]
  },
  {
   "cell_type": "code",
   "execution_count": 125,
   "metadata": {},
   "outputs": [],
   "source": [
    "pdb = ParkingLot(board_id=999)"
   ]
  },
  {
   "cell_type": "code",
   "execution_count": 126,
   "metadata": {},
   "outputs": [
    {
     "name": "stdout",
     "output_type": "stream",
     "text": [
      "Park in handicapped spot: 345\n",
      "\n"
     ]
    }
   ],
   "source": [
    "pdb.find_open_spot(spot_type=\"handicapped\")"
   ]
  },
  {
   "cell_type": "markdown",
   "metadata": {},
   "source": [
    "4) Implement the Bunch design pattern \n",
    "-------\n",
    "\n",
    "A dictionary that supports attribute-style access, a la JavaScript.\n",
    "\n",
    "```\n",
    "employee = Bunch(name=\"Jayne Cobb\", position=\"Senior Engineer\")\n",
    "assert set(employee.keys()) == {'name', 'position'}\n",
    "assert employee.name == \"Jayne Cobb\"\n",
    "assert employee.position == \"Senior Engineer\"\n",
    "```"
   ]
  },
  {
   "cell_type": "code",
   "execution_count": 127,
   "metadata": {},
   "outputs": [],
   "source": [
    "class Bunch(dict):\n",
    "    \"Bunch is a dictionary that supports attribute-style access\"\n",
    "    def __init__(self, **kwargs):\n",
    "        self.update(kwargs) # Add keyword arguments to dict \n",
    "        self.__dict__.update(kwargs) # Allow attribute access\n",
    "        \n",
    "employee = Bunch(name=\"Jayne Cobb\", position=\"Senior Engineer\")\n",
    "assert set(employee.keys()) == {'name', 'position'}\n",
    "assert employee.name == \"Jayne Cobb\"\n",
    "assert employee.position == \"Senior Engineer\""
   ]
  },
  {
   "cell_type": "markdown",
   "metadata": {},
   "source": [
    "5) Create an immutable attribute of a class\n",
    "-----\n",
    "\n",
    "For example, a Person's class with attribute of Social Security Number"
   ]
  },
  {
   "cell_type": "code",
   "execution_count": 131,
   "metadata": {},
   "outputs": [
    {
     "ename": "AttributeError",
     "evalue": "can't set attribute",
     "output_type": "error",
     "traceback": [
      "\u001b[0;31m---------------------------------------------------------------------------\u001b[0m",
      "\u001b[0;31mAttributeError\u001b[0m                            Traceback (most recent call last)",
      "\u001b[0;32m<ipython-input-131-fac9d2284c80>\u001b[0m in \u001b[0;36m<module>\u001b[0;34m\u001b[0m\n\u001b[1;32m      1\u001b[0m \u001b[0mbrian\u001b[0m \u001b[0;34m=\u001b[0m \u001b[0mPerson\u001b[0m\u001b[0;34m(\u001b[0m\u001b[0mssn\u001b[0m\u001b[0;34m=\u001b[0m\u001b[0;36m555_555_5555\u001b[0m\u001b[0;34m)\u001b[0m\u001b[0;34m\u001b[0m\u001b[0;34m\u001b[0m\u001b[0m\n\u001b[0;32m----> 2\u001b[0;31m \u001b[0mbrian\u001b[0m\u001b[0;34m.\u001b[0m\u001b[0mssn\u001b[0m \u001b[0;34m=\u001b[0m \u001b[0;36m1\u001b[0m\u001b[0;34m\u001b[0m\u001b[0;34m\u001b[0m\u001b[0m\n\u001b[0m",
      "\u001b[0;31mAttributeError\u001b[0m: can't set attribute"
     ]
    }
   ],
   "source": [
    "brian = Person(ssn=555_555_5555)\n",
    "brian.ssn = 1"
   ]
  },
  {
   "cell_type": "code",
   "execution_count": 128,
   "metadata": {},
   "outputs": [],
   "source": [
    "class Person:\n",
    "    def __init__(self, ssn):\n",
    "        self._ssn = ssn \n",
    "\n",
    "    @property\n",
    "    def ssn(self): # Setup redirection; define read-only attribute\n",
    "        return self._ssn\n",
    "\n",
    "brian = Person(ssn=555_555_5555)\n",
    "brian.ssn # Read-only version\n",
    "\n",
    "brian._ssn = 0 # Mutable version\n",
    "assert brian.ssn == 0"
   ]
  },
  {
   "cell_type": "markdown",
   "metadata": {},
   "source": [
    "<center><h2>Takeaways</h2></center>\n",
    "\n",
    "Reflection: List the 3 most important concepts from this session\n",
    "-----\n",
    "\n",
    "1. \n",
    "2. \n",
    "3. "
   ]
  },
  {
   "cell_type": "markdown",
   "metadata": {},
   "source": [
    "Please take a moment to fill out the survey to improve this study group and vote on the topic for next time\n",
    "\n",
    "https://docs.google.com/forms/d/1i5I2GOndm7NZPkPlpaGh36mNx0UdnH_BtiNQeoislxs/edit\n"
   ]
  },
  {
   "cell_type": "markdown",
   "metadata": {},
   "source": [
    "<br>\n",
    "<br> \n",
    "<br>\n",
    "\n",
    "----"
   ]
  }
 ],
 "metadata": {
  "kernelspec": {
   "display_name": "Python 3",
   "language": "python",
   "name": "python3"
  },
  "language_info": {
   "codemirror_mode": {
    "name": "ipython",
    "version": 3
   },
   "file_extension": ".py",
   "mimetype": "text/x-python",
   "name": "python",
   "nbconvert_exporter": "python",
   "pygments_lexer": "ipython3",
   "version": "3.7.6"
  },
  "toc": {
   "base_numbering": 1,
   "nav_menu": {},
   "number_sections": false,
   "sideBar": false,
   "skip_h1_title": false,
   "title_cell": "Table of Contents",
   "title_sidebar": "Contents",
   "toc_cell": true,
   "toc_position": {},
   "toc_section_display": true,
   "toc_window_display": false
  }
 },
 "nbformat": 4,
 "nbformat_minor": 2
}
